{
  "nbformat": 4,
  "nbformat_minor": 0,
  "metadata": {
    "colab": {
      "provenance": []
    },
    "kernelspec": {
      "name": "python3",
      "display_name": "Python 3"
    },
    "language_info": {
      "name": "python"
    }
  },
  "cells": [
    {
      "cell_type": "markdown",
      "source": [
        "\n",
        "### Lab 12 Unittest & Linear Regression\n",
        "---\n",
        "\n",
        "`unittest` — Unit testing framework\n",
        "\n",
        "The unittest unit testing framework was originally inspired by JUnit and has a similar flavor as major unit testing frameworks in other languages. It supports test automation, sharing of setup and shutdown code for tests, aggregation of tests into collections, and independence of the tests from the reporting framework.\n",
        "\n",
        "To achieve this, unittest supports some important concepts in an object-oriented way:\n",
        "\n",
        "test fixture\n",
        "A test fixture represents the preparation needed to perform one or more tests, and any associated cleanup actions. This may involve, for example, creating temporary or proxy databases, directories, or starting a server process.\n",
        "\n",
        "test case\n",
        "A test case is the individual unit of testing. It checks for a specific response to a particular set of inputs. unittest provides a base class, TestCase, which may be used to create new test cases.\n",
        "\n",
        "test suite\n",
        "A test suite is a collection of test cases, test suites, or both. It is used to aggregate tests that should be executed together.\n",
        "\n",
        "test runner\n",
        "A test runner is a component which orchestrates the execution of tests and provides the outcome to the user. The runner may use a graphical interface, a textual interface, or return a special value to indicate the results of executing the tests."
      ],
      "metadata": {
        "id": "QcrZLsdMbea7"
      }
    },
    {
      "cell_type": "markdown",
      "source": [
        "#### Simple Linear Regression: A Practical Implementation in Python\n",
        "To build a linear regression model in python, we’ll follow six steps:\n",
        "\n",
        "  1. Reading and understanding the data\n",
        "  2. Data pre-processing\n",
        "  3. Splitting the test and train sets\n",
        "  4. Fitting the linear regression model to the training set\n",
        "  5. Predicting test results\n",
        "  6. Visualizing the test results\n"
      ],
      "metadata": {
        "id": "_cFGYd6adNRK"
      }
    },
    {
      "cell_type": "markdown",
      "source": [
        "### Generating our data\n",
        "Instead of using a popular sample dataset, let’s generate our own data instead. This will help us understand the values of the sample data better than if we took a real life dataset, and will also help us judge the accuracy of our model better, as you will see in the later sections.\n",
        "\n",
        "Let’s assume there is only one predictor variable. In that case the linear relationship will be of the form:\n",
        "\n",
        "`y = mx + b + e`\n",
        "\n",
        "If we normalize our data, so that `b = 0` , we will get the simplified form of the above equation:\n",
        "\n",
        "`Y = mx + e`\n",
        "\n",
        "Here `e`,  is a random value that represents the irreducible error that occurs with each measurement of `y`"
      ],
      "metadata": {
        "id": "4TOVuycLdjx2"
      }
    },
    {
      "cell_type": "markdown",
      "source": [
        "**Question 1** Lets write a function to generate this data for us:"
      ],
      "metadata": {
        "id": "XJlECM81hOoo"
      }
    },
    {
      "cell_type": "code",
      "execution_count": null,
      "metadata": {
        "id": "57IBsL2saoAp"
      },
      "outputs": [],
      "source": [
        "def generate_dataset(b, n, std_dev):\n",
        "  # Generate x as an array of `n` samples which can take a value between 0 and 100\n",
        "  ...\n",
        "  # Generate the random error of n samples, with a random value from a normal distribution, with a standard\n",
        "  # deviation provided in the function argument\n",
        "  ...\n",
        "  # Calculate `y` according to the equation discussed\n",
        "  ..."
      ]
    },
    {
      "cell_type": "markdown",
      "source": [
        "**Question 2** Create the required number of samples, and then separate them into training and testing sets"
      ],
      "metadata": {
        "id": "JvVeNX93hjo0"
      }
    },
    {
      "cell_type": "code",
      "source": [
        "#Generate dataset using b = 10, n = 50 and std_dev = 100\n",
        "x, y = ...\n",
        "\n",
        "# Take the first 40 samples to train, and the last 10 to test\n",
        "...\n",
        "..."
      ],
      "metadata": {
        "id": "MHEbQWsThi3y"
      },
      "execution_count": null,
      "outputs": []
    },
    {
      "cell_type": "markdown",
      "source": [
        "### Estimating the coefficient from the data\n",
        "Now that we have our data, let’s use scikit learn’s `LinearRegression` model to predict the coefficients from the raw data using the ordinary least squares method of regression:"
      ],
      "metadata": {
        "id": "KzS2GeypmEA1"
      }
    },
    {
      "cell_type": "markdown",
      "source": [
        "**Question 3** Using linear regression get the value of `m` back"
      ],
      "metadata": {
        "id": "w09m07bmrRAl"
      }
    },
    {
      "cell_type": "code",
      "source": [
        "# Import, and create an instance of a simple least squares regression model\n",
        "from sklearn import linear_model\n",
        "from sklearn.metrics import mean_squared_error, r2_score\n",
        "\n",
        "\n",
        "model = linear_model.LinearRegression()\n",
        "\n",
        "# Train the model using the training data that we created\n",
        "...\n",
        "# Now that we have trained the model, we can print the coefficient of x that it has predicted\n",
        "...\n",
        "\n",
        "# We then use the model to make predictions based on the test values of x\n",
        "y_pred = model.predict(x_test)\n",
        "\n",
        "# Now, we can calculate the models accuracy metrics based on what the actual value of y was\n",
        "print(\"Mean squared error: %.2f\"\n",
        "      % mean_squared_error(y_test, y_pred))\n",
        "print('r_2 statistic: %.2f' % r2_score(y_test, y_pred))\n",
        "\n"
      ],
      "metadata": {
        "id": "2eROcqpyq6Tt"
      },
      "execution_count": null,
      "outputs": []
    },
    {
      "cell_type": "markdown",
      "source": [
        "**Question 4** Using unittest, test that the predicted `m` is within some% of the model `m` that was used to make the fake data, which tests that regression was done properly.\n"
      ],
      "metadata": {
        "id": "9IYnHCHJyhio"
      }
    },
    {
      "cell_type": "code",
      "source": [
        "...\n",
        "...\n"
      ],
      "metadata": {
        "id": "IINgVzg5z28Q"
      },
      "execution_count": null,
      "outputs": []
    }
  ]
}